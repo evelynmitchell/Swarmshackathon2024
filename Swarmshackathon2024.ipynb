{
  "nbformat": 4,
  "nbformat_minor": 0,
  "metadata": {
    "colab": {
      "private_outputs": true,
      "provenance": []
    },
    "kernelspec": {
      "name": "python3",
      "display_name": "Python 3"
    },
    "language_info": {
      "name": "python"
    }
  },
  "cells": [
    {
      "cell_type": "markdown",
      "source": [
        "# Entry for SwarmsHackathon 2024\n",
        "\n"
      ],
      "metadata": {
        "id": "Qf8eZIT71wba"
      }
    },
    {
      "cell_type": "markdown",
      "source": [
        "## Install Swarms"
      ],
      "metadata": {
        "id": "-rBXNMWV4EWN"
      }
    },
    {
      "cell_type": "code",
      "execution_count": null,
      "metadata": {
        "id": "w4FoSEyP1q_x"
      },
      "outputs": [],
      "source": [
        "!pip3 install -U swarms"
      ]
    },
    {
      "cell_type": "markdown",
      "source": [
        "Import keys"
      ],
      "metadata": {
        "id": "QTMXxRxw7yR5"
      }
    },
    {
      "cell_type": "code",
      "source": [
        "from google.colab import userdata\n",
        "anthropic_api_key = userdata.get('ANTHROPIC_API_KEY')"
      ],
      "metadata": {
        "id": "lzSnwHw-7z8B"
      },
      "execution_count": null,
      "outputs": []
    },
    {
      "cell_type": "markdown",
      "source": [
        "## Devin like"
      ],
      "metadata": {
        "id": "eD0PkNm25SVT"
      }
    },
    {
      "cell_type": "markdown",
      "source": [
        "This example requires the anthropic library which is not installed by default."
      ],
      "metadata": {
        "id": "0Shm1vrS-YFZ"
      }
    },
    {
      "cell_type": "code",
      "source": [
        "!pip install anthropic"
      ],
      "metadata": {
        "id": "aZG6eSjr-U7J"
      },
      "execution_count": null,
      "outputs": []
    },
    {
      "cell_type": "code",
      "execution_count": null,
      "metadata": {
        "id": "NyroG92H1m2G"
      },
      "outputs": [],
      "source": [
        "from swarms import Agent, Anthropic, tool\n",
        "import subprocess\n",
        "\n",
        "# Model\n",
        "llm = Anthropic(\n",
        "    temperature=0.1,\n",
        "    anthropic_api_key = anthropic_api_key\n",
        ")\n",
        "\n",
        "# Tools\n",
        "\n",
        "def terminal(\n",
        "    code: str,\n",
        "):\n",
        "    \"\"\"\n",
        "    Run code in the terminal.\n",
        "\n",
        "    Args:\n",
        "        code (str): The code to run in the terminal.\n",
        "\n",
        "    Returns:\n",
        "        str: The output of the code.\n",
        "    \"\"\"\n",
        "    out = subprocess.run(\n",
        "        code, shell=True, capture_output=True, text=True\n",
        "    ).stdout\n",
        "    return str(out)\n",
        "\n",
        "\n",
        "def browser(query: str):\n",
        "    \"\"\"\n",
        "    Search the query in the browser with the `browser` tool.\n",
        "\n",
        "    Args:\n",
        "        query (str): The query to search in the browser.\n",
        "\n",
        "    Returns:\n",
        "        str: The search results.\n",
        "    \"\"\"\n",
        "    import webbrowser\n",
        "\n",
        "    url = f\"https://www.google.com/search?q={query}\"\n",
        "    webbrowser.open(url)\n",
        "    return f\"Searching for {query} in the browser.\"\n",
        "\n",
        "\n",
        "def create_file(file_path: str, content: str):\n",
        "    \"\"\"\n",
        "    Create a file using the file editor tool.\n",
        "\n",
        "    Args:\n",
        "        file_path (str): The path to the file.\n",
        "        content (str): The content to write to the file.\n",
        "\n",
        "    Returns:\n",
        "        str: The result of the file creation operation.\n",
        "    \"\"\"\n",
        "    with open(file_path, \"w\") as file:\n",
        "        file.write(content)\n",
        "    return f\"File {file_path} created successfully.\"\n",
        "\n",
        "\n",
        "def file_editor(file_path: str, mode: str, content: str):\n",
        "    \"\"\"\n",
        "    Edit a file using the file editor tool.\n",
        "\n",
        "    Args:\n",
        "        file_path (str): The path to the file.\n",
        "        mode (str): The mode to open the file in.\n",
        "        content (str): The content to write to the file.\n",
        "\n",
        "    Returns:\n",
        "        str: The result of the file editing operation.\n",
        "    \"\"\"\n",
        "    with open(file_path, mode) as file:\n",
        "        file.write(content)\n",
        "    return f\"File {file_path} edited successfully.\"\n",
        "\n",
        "\n",
        "# Agent\n",
        "agent = Agent(\n",
        "    agent_name=\"Devin\",\n",
        "    system_prompt=(\n",
        "        \"\"\"Autonomous agent that can interact with humans and other\n",
        "         agents. Be Helpful and Kind. Use the tools provided to\n",
        "         assist the user. Return all code in markdown format.\"\"\"\n",
        "    ),\n",
        "    llm=llm,\n",
        "    max_loops=\"auto\",\n",
        "    autosave=True,\n",
        "    dashboard=False,\n",
        "    streaming_on=True,\n",
        "    verbose=True,\n",
        "    stopping_token=\"<DONE>\",\n",
        "    interactive=True,\n",
        "    tools=[terminal, browser, file_editor, create_file],\n",
        "    code_interpreter=True,\n",
        "    # streaming=True,\n",
        ")\n",
        "\n",
        "# Run the agent\n",
        "out = agent(\"Create a new file for a plan to create abundance in the world.\")\n",
        "print(out)"
      ]
    }
  ]
}