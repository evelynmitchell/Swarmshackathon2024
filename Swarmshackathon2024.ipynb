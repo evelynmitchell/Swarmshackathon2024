{
  "nbformat": 4,
  "nbformat_minor": 0,
  "metadata": {
    "colab": {
      "private_outputs": true,
      "provenance": []
    },
    "kernelspec": {
      "name": "python3",
      "display_name": "Python 3"
    },
    "language_info": {
      "name": "python"
    }
  },
  "cells": [
    {
      "cell_type": "markdown",
      "source": [
        "# Entry for SwarmsHackathon 2024\n",
        "\n"
      ],
      "metadata": {
        "id": "Qf8eZIT71wba"
      }
    },
    {
      "cell_type": "markdown",
      "source": [
        "## Install Swarms"
      ],
      "metadata": {
        "id": "-rBXNMWV4EWN"
      }
    },
    {
      "cell_type": "code",
      "execution_count": null,
      "metadata": {
        "id": "w4FoSEyP1q_x"
      },
      "outputs": [],
      "source": [
        "!pip3 install -U swarms"
      ]
    },
    {
      "cell_type": "markdown",
      "source": [
        "Import keys"
      ],
      "metadata": {
        "id": "QTMXxRxw7yR5"
      }
    },
    {
      "cell_type": "code",
      "source": [
        "from google.colab import userdata\n",
        "anthropic_api_key = userdata.get('ANTHROPIC_API_KEY')"
      ],
      "metadata": {
        "id": "lzSnwHw-7z8B"
      },
      "execution_count": null,
      "outputs": []
    },
    {
      "cell_type": "markdown",
      "source": [
        "## Devin like"
      ],
      "metadata": {
        "id": "eD0PkNm25SVT"
      }
    },
    {
      "cell_type": "markdown",
      "source": [
        "This example requires the anthropic library which is not installed by default."
      ],
      "metadata": {
        "id": "0Shm1vrS-YFZ"
      }
    },
    {
      "cell_type": "code",
      "source": [
        "!pip install anthropic"
      ],
      "metadata": {
        "id": "aZG6eSjr-U7J"
      },
      "execution_count": null,
      "outputs": []
    },
    {
      "cell_type": "code",
      "execution_count": null,
      "metadata": {
        "id": "NyroG92H1m2G"
      },
      "outputs": [],
      "source": [
        "from swarms import Agent, Anthropic, tool\n",
        "import subprocess\n",
        "\n",
        "# Model\n",
        "llm = Anthropic(\n",
        "    temperature=0.1,\n",
        "    anthropic_api_key = anthropic_api_key\n",
        ")\n",
        "\n",
        "# Tools\n",
        "@tool\n",
        "def terminal(\n",
        "    code: str,\n",
        "):\n",
        "    \"\"\"\n",
        "    Run code in the terminal.\n",
        "\n",
        "    Args:\n",
        "        code (str): The code to run in the terminal.\n",
        "\n",
        "    Returns:\n",
        "        str: The output of the code.\n",
        "    \"\"\"\n",
        "    out = subprocess.run(\n",
        "        code, shell=True, capture_output=True, text=True\n",
        "    ).stdout\n",
        "    return str(out)\n",
        "\n",
        "\n",
        "@tool\n",
        "def browser(query: str):\n",
        "    \"\"\"\n",
        "    Search the query in the browser with the `browser` tool.\n",
        "\n",
        "    Args:\n",
        "        query (str): The query to search in the browser.\n",
        "\n",
        "    Returns:\n",
        "        str: The search results.\n",
        "    \"\"\"\n",
        "    import webbrowser\n",
        "\n",
        "    url = f\"https://www.google.com/search?q={query}\"\n",
        "    webbrowser.open(url)\n",
        "    return f\"Searching for {query} in the browser.\"\n",
        "\n",
        "@tool\n",
        "def create_file(file_path: str, content: str):\n",
        "    \"\"\"\n",
        "    Create a file using the file editor tool.\n",
        "\n",
        "    Args:\n",
        "        file_path (str): The path to the file.\n",
        "        content (str): The content to write to the file.\n",
        "\n",
        "    Returns:\n",
        "        str: The result of the file creation operation.\n",
        "    \"\"\"\n",
        "    with open(file_path, \"w\") as file:\n",
        "        file.write(content)\n",
        "    return f\"File {file_path} created successfully.\"\n",
        "\n",
        "@tool\n",
        "def file_editor(file_path: str, mode: str, content: str):\n",
        "    \"\"\"\n",
        "    Edit a file using the file editor tool.\n",
        "\n",
        "    Args:\n",
        "        file_path (str): The path to the file.\n",
        "        mode (str): The mode to open the file in.\n",
        "        content (str): The content to write to the file.\n",
        "\n",
        "    Returns:\n",
        "        str: The result of the file editing operation.\n",
        "    \"\"\"\n",
        "    with open(file_path, mode) as file:\n",
        "        file.write(content)\n",
        "    return f\"File {file_path} edited successfully.\"\n",
        "\n",
        "\n",
        "# Agent\n",
        "agent = Agent(\n",
        "    agent_name=\"Devin\",\n",
        "    system_prompt=(\n",
        "        \"Autonomous agent that can interact with humans and other\"\n",
        "        \" agents. Be Helpful and Kind. Use the tools provided to\"\n",
        "        \" assist the user. Return all code in markdown format.\"\n",
        "    ),\n",
        "    llm=llm,\n",
        "    max_loops=\"auto\",\n",
        "    autosave=True,\n",
        "    dashboard=False,\n",
        "    streaming_on=True,\n",
        "    verbose=True,\n",
        "    stopping_token=\"<DONE>\",\n",
        "    interactive=True,\n",
        "    tools=[terminal, browser, file_editor, create_file],\n",
        "    code_interpreter=True,\n",
        "    # streaming=True,\n",
        ")\n",
        "\n",
        "# Run the agent\n",
        "out = agent(\"Create a new file for a plan to take over the world.\")\n",
        "print(out)"
      ]
    },
    {
      "cell_type": "markdown",
      "source": [
        "Ran into a conversion error when using Anthropic with the OpenAI API format:\n",
        "```\n",
        "2024-06-01T18:05:32.355005+0000 Number of tools: 4\n",
        "2024-06-01T18:05:32.357823+0000 Tools provided, Automatically converting to OpenAI function\n",
        "2024-06-01T18:05:32.367085+0000 Tool: decorator\n",
        "2024-06-01T18:05:32.368336+0000 Tool: decorator\n",
        "2024-06-01T18:05:32.368846+0000 Tool: decorator\n",
        "2024-06-01T18:05:32.369262+0000 Tool: decorator\n",
        "\n",
        "---------------------------------------------------------------------------\n",
        "\n",
        "TypeError                                 Traceback (most recent call last)\n",
        "\n",
        "<ipython-input-12-74d5a5dcf2f4> in <cell line: 82>()\n",
        "     80\n",
        "     81 # Agent\n",
        "---> 82 agent = Agent(\n",
        "     83     agent_name=\"Devin\",\n",
        "     84     system_prompt=(\n",
        "\n",
        "1 frames\n",
        "\n",
        "/usr/local/lib/python3.10/dist-packages/swarms/tools/py_func_to_openai_func_str.py in get_openai_function_schema_from_func(function, name, description)\n",
        "    433     if missing != set():\n",
        "    434         missing_s = [f\"'{k}'\" for k in sorted(missing)]\n",
        "--> 435         raise TypeError(\n",
        "    436             f\"All parameters of the function '{function.__name__}' without default values must be annotated. \"\n",
        "    437             + f\"The annotations are missing for the following parameters: {', '.join(missing_s)}\"\n",
        "\n",
        "TypeError: All parameters of the function 'decorator' without default values must be annotated. The annotations are missing for the following parameters: 'func'\n",
        "\n",
        "```"
      ],
      "metadata": {
        "id": "HmDrPNsP_JZJ"
      }
    }
  ]
}